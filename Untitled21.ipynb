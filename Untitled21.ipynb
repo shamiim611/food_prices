{
 "cells": [
  {
   "cell_type": "code",
   "execution_count": 47,
   "id": "619a754b-fcbb-447f-9b3c-80dba8c6fb1f",
   "metadata": {},
   "outputs": [
    {
     "name": "stdout",
     "output_type": "stream",
     "text": [
      "Overwriting streamlit_app.py\n"
     ]
    }
   ],
   "source": [
    "%%writefile streamlit_app.py\n",
    "\n",
    "import streamlit as st\n",
    "import pandas as pd\n",
    "import plotly.express as px\n",
    "\n",
    "file_path ='C:/Users/HP/Documents/Python Scripts/global_food_prices.zip'\n",
    "data = pd.read_csv(file_path, compression ='zip', encoding ='latin1' )\n",
    "\n",
    "# Rename 'adm0_name' to 'country'\n",
    "data.rename(columns={'adm0_name': 'country'}, inplace=True)\n",
    "\n",
    "# Streamlit app\n",
    "st.title(\"Global Food Prices Exploratory Data Analysis\")\n",
    "st.markdown(\"This app allows you to interactively explore the global food prices dataset.\")\n",
    "\n",
    "# Sidebar options for filtering\n",
    "st.sidebar.header(\"Filter Options\")\n",
    "\n",
    "# Filter by country\n",
    "countries = sorted(data['country'].unique())\n",
    "selected_countries = st.sidebar.multiselect('Select countries', countries, default=countries)\n",
    "\n",
    "# Filter by commodity\n",
    "commodities = sorted(data['cm_name'].unique())\n",
    "selected_commodities = st.sidebar.multiselect('Select commodities', commodities, default=commodities)\n",
    "\n",
    "# Filter by year range\n",
    "years = sorted(data['mp_year'].unique())\n",
    "selected_years = st.sidebar.slider('Select year range', min_value=min(years), max_value=max(years), value=(min(years), max(years)))\n",
    "\n",
    "# Filter the dataset based on the selected filters\n",
    "filtered_data = data[\n",
    "    (data['country'].isin(selected_countries)) &\n",
    "    (data['cm_name'].isin(selected_commodities)) &\n",
    "    (data['mp_year'] >= selected_years[0]) &\n",
    "    (data['mp_year'] <= selected_years[1])\n",
    "]\n",
    "\n",
    "# Show a summary of the filtered dataset\n",
    "st.write(f\"### Summary of Filtered Data ({len(filtered_data)} rows)\")\n",
    "st.dataframe(filtered_data.head())\n",
    "\n",
    "# Visualize the count of price types for the selected countries and commodities\n",
    "st.write(\"### Count of Price Types by Country and Commodity\")\n",
    "pt_counts = filtered_data.groupby(['country', 'pt_name']).size().reset_index(name='count')\n",
    "fig1 = px.bar(pt_counts, \n",
    "              x='country', \n",
    "              y='count', \n",
    "              color='pt_name', \n",
    "              title='Count of Price Types by Country and Commodity',\n",
    "              labels={'country': 'Country', 'count': 'Count', 'pt_name': 'Price Type'},\n",
    "              barmode='group')\n",
    "st.plotly_chart(fig1)\n",
    "\n",
    "# Visualize average price of commodities over time\n",
    "st.write(\"### Average Price of Commodities Over Time\")\n",
    "avg_price = filtered_data.groupby(['mp_year', 'cm_name'])['mp_price'].mean().reset_index()\n",
    "fig2 = px.line(avg_price, \n",
    "               x='mp_year', \n",
    "               y='mp_price', \n",
    "               color='cm_name', \n",
    "               title='Average Price of Commodities Over Time',\n",
    "               labels={'mp_year': 'Year', 'mp_price': 'Average Price', 'cm_name': 'Commodity'})\n",
    "st.plotly_chart(fig2)\n",
    "\n",
    "# Visualize price distribution\n",
    "st.write(\"### Price Distribution by Country and Commodity\")\n",
    "fig3 = px.box(filtered_data, \n",
    "              x='country', \n",
    "              y='mp_price', \n",
    "              color='cm_name', \n",
    "              title='Price Distribution by Country and Commodity',\n",
    "              labels={'country': 'Country', 'mp_price': 'Price', 'cm_name': 'Commodity'})\n",
    "st.plotly_chart(fig3)\n",
    "\n",
    "# Additional statistics\n",
    "st.write(\"### Descriptive Statistics\")\n",
    "st.write(filtered_data.describe())"
   ]
  },
  {
   "cell_type": "code",
   "execution_count": 49,
   "id": "85bfee04-5f66-4fd5-8ce2-589046d10c13",
   "metadata": {},
   "outputs": [
    {
     "data": {
      "text/html": [
       "<a href='streamlit_app.py' target='_blank'>streamlit_app.py</a><br>"
      ],
      "text/plain": [
       "C:\\Users\\HP\\Downloads\\streamlit_app.py"
      ]
     },
     "metadata": {},
     "output_type": "display_data"
    }
   ],
   "source": [
    "from IPython.display import FileLink\n",
    "\n",
    "# Assuming you have saved the Streamlit app code to a file named 'streamlit_app.py'\n",
    "file_name = 'streamlit_app.py'\n",
    "\n",
    "# Create a link to download the file\n",
    "display(FileLink(file_name))"
   ]
  },
  {
   "cell_type": "code",
   "execution_count": 51,
   "id": "c7d4cb16-7997-4551-9a61-ad162a446535",
   "metadata": {},
   "outputs": [
    {
     "name": "stdout",
     "output_type": "stream",
     "text": [
      "Overwriting requirements.txt\n"
     ]
    }
   ],
   "source": [
    "%%writefile requirements.txt\n",
    "pandas\n",
    "streamlit\n",
    "plotly"
   ]
  },
  {
   "cell_type": "code",
   "execution_count": 53,
   "id": "c27ddb70-9f20-4f08-a792-02aaeee00534",
   "metadata": {},
   "outputs": [
    {
     "data": {
      "text/html": [
       "<a href='requirements.txt' target='_blank'>requirements.txt</a><br>"
      ],
      "text/plain": [
       "C:\\Users\\HP\\Downloads\\requirements.txt"
      ]
     },
     "metadata": {},
     "output_type": "display_data"
    }
   ],
   "source": [
    "from IPython.display import FileLink\n",
    "\n",
    "# Create a link to download the file\n",
    "display(FileLink('requirements.txt'))"
   ]
  },
  {
   "cell_type": "code",
   "execution_count": null,
   "id": "b5d81bfb-09a5-427c-99e6-18f392882dc3",
   "metadata": {},
   "outputs": [],
   "source": []
  }
 ],
 "metadata": {
  "kernelspec": {
   "display_name": "Python 3 (ipykernel)",
   "language": "python",
   "name": "python3"
  },
  "language_info": {
   "codemirror_mode": {
    "name": "ipython",
    "version": 3
   },
   "file_extension": ".py",
   "mimetype": "text/x-python",
   "name": "python",
   "nbconvert_exporter": "python",
   "pygments_lexer": "ipython3",
   "version": "3.11.7"
  }
 },
 "nbformat": 4,
 "nbformat_minor": 5
}
